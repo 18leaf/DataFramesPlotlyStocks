{
 "cells": [
  {
   "cell_type": "code",
   "execution_count": 1,
   "metadata": {},
   "outputs": [],
   "source": [
    "import pandas as pd\n",
    "import os\n",
    "import plotly.express as px"
   ]
  },
  {
   "cell_type": "code",
   "execution_count": 1,
   "metadata": {},
   "outputs": [],
   "source": [
    "# define tickers and associated path to files\n",
    "tickers_to_file_paths = {\n",
    "    'AAPL': '../data/AAPL_data.csv',\n",
    "    'MSFT': '../data/MSFT_data.csv',\n",
    "    'GOOGL': '../data/GOOGL_data.csv'\n",
    "}"
   ]
  },
  {
   "cell_type": "markdown",
   "metadata": {},
   "source": [
    "## Send csv file info into a data Frame, and concatenate each csv file after\n",
    "create list for dataframe, for each loop to iterate over files from dictionary above, define columns, convert Date column to datetime format and add ticker column to each"
   ]
  },
  {
   "cell_type": "code",
   "execution_count": null,
   "metadata": {},
   "outputs": [],
   "source": [
    "# init list of dataframes for each\n",
    "df_list = []\n",
    "\n",
    "#create dataframe for each file and load them into df_list\n",
    "for ticker, file_path in tickers_to_file_paths.items():\n",
    "    temp_df = pd.read_csv(file_path, skiprows=3, header=None)\n",
    "    # define columns since we skipheaders with yfinance csv formatting\n",
    "    temp_df.columns = ['Date', 'Adj Close', 'Close', 'High', 'Low', 'Open', 'Volume']\n",
    "    # set date column to proper datetime format and add ticker column\n",
    "    temp_df['Date'] = pd.to_datetime(temp_df['Date'])\n",
    "    temp_df['Ticker'] = ticker\n",
    "    # add temp df to df_list\n",
    "    df_list.append(temp_df)"
   ]
  },
  {
   "cell_type": "code",
   "execution_count": 4,
   "metadata": {},
   "outputs": [],
   "source": [
    "# combine all dataframes from list\n",
    "df_combined = pd.concat(df_list, axis=0)\n",
    "# index by date (shared index for each)\n",
    "df_combined = df_combined.set_index('Date')"
   ]
  },
  {
   "cell_type": "markdown",
   "metadata": {},
   "source": [
    "## create/process data/metadata"
   ]
  },
  {
   "cell_type": "code",
   "execution_count": 14,
   "metadata": {},
   "outputs": [],
   "source": [
    "# daily returns\n",
    "# groupby Ticker (same stock) on Close. percentage change to previous value\n",
    "df_combined['Daily_Returns'] = df_combined.groupby('Ticker')['Close'].pct_change()\n",
    "\n",
    "# rolling averages\n",
    "# groupyby Ticker on close, transform the data to a rolling average of 7 entries and get mean for each\n",
    "# note first 6 or 29 will be Null since this calculates with x entries at a time, so backfill will give the first avg calculated with data\n",
    "df_combined['7D MA'] = df_combined.groupby('Ticker')['Close'].transform(lambda x: x.rolling(7).mean())\n",
    "df_combined['30D MA'] = df_combined.groupby('Ticker')['Close'].transform(lambda x: x.rolling(30).mean())\n",
    "\n",
    "# rolling volatility over 30 days\n",
    "df_combined['Volatility'] = df_combined.groupby('Ticker')['Daily_Returns'].transform(lambda x: x.rolling(30).std())"
   ]
  },
  {
   "cell_type": "code",
   "execution_count": null,
   "metadata": {},
   "outputs": [],
   "source": [
    "# Note this would be a way to fill data\n",
    "# however this will ruin averages and standard deviation, as it will simply fill with the next valid average for each empty points\n",
    "# pureley a demonstration\n",
    "if True:\n",
    "    print(\"do not execute lol\")\n",
    "else:\n",
    "    df_combined['7D MA'] = df_combined['7D MA'].bfill()\n",
    "    df_combined['30D MA'] = df_combined['30D MA'].bfill()"
   ]
  },
  {
   "cell_type": "markdown",
   "metadata": {},
   "source": [
    "## Analyze data"
   ]
  },
  {
   "cell_type": "code",
   "execution_count": null,
   "metadata": {},
   "outputs": [],
   "source": [
    "# average monthyl returns for\n",
    "monthly_returns = df_combined.groupby('Ticker')['Daily_Returns'].resample('ME').mean().unstack(level=0)\n",
    "print(\"Monthly Returns:\\n\", monthly_returns)\n",
    "\n",
    "# highest volatility dates, top 10 sort_by volatiltiy, descending\n",
    "# TODO -> sortby and groupby at the same time.. soo highest volatility for apple, google, microfot seperately\n",
    "high_volatility = df_combined.sort_values(by='Volatility', ascending=False).head(10)\n",
    "print(\"High Volatility Periods:\\n\", high_volatility)\n",
    "high_volatility_by_company = (df_combined\n",
    "                              .groupby('Ticker')['Volatility']\n",
    "                              .apply(lambda x: x.sort_values(ascending=False))\n",
    "                              .head(3)\n",
    "                              )\n",
    "print(\"High Volatility By Company:\\n\", high_volatility_by_company)\n",
    "\n",
    "# statistcal comparison of returns\n",
    "print(df_combined.pivot(columns='Ticker', values='Daily_Returns').corr())"
   ]
  },
  {
   "cell_type": "markdown",
   "metadata": {},
   "source": [
    "## Plotly Integration/ Visualization\n",
    "** note cannot execute in jupyter notebooks, so send all of this to .py file"
   ]
  },
  {
   "cell_type": "code",
   "execution_count": null,
   "metadata": {},
   "outputs": [],
   "source": [
    "figure = px.line(df_combined, x=df_combined.index, y='Close', color='Ticker', title='Closing Prices Over Time')\n",
    "figure.show()"
   ]
  },
  {
   "cell_type": "code",
   "execution_count": null,
   "metadata": {},
   "outputs": [],
   "source": [
    "# preview data\n",
    "print(df_combined.head())\n",
    "print(df_combined.info())\n",
    "print(df_combined.describe())\n",
    "# print amount of isnull for each column\n",
    "print(df_combined.isnull().sum())\n",
    "# if null forward fill with df_combined.ffill()"
   ]
  },
  {
   "cell_type": "code",
   "execution_count": null,
   "metadata": {},
   "outputs": [],
   "source": []
  }
 ],
 "metadata": {
  "kernelspec": {
   "display_name": "venv",
   "language": "python",
   "name": "python3"
  },
  "language_info": {
   "codemirror_mode": {
    "name": "ipython",
    "version": 3
   },
   "file_extension": ".py",
   "mimetype": "text/x-python",
   "name": "python",
   "nbconvert_exporter": "python",
   "pygments_lexer": "ipython3",
   "version": "3.11.3"
  }
 },
 "nbformat": 4,
 "nbformat_minor": 2
}
